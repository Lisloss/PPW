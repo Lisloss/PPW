{
 "cells": [
  {
   "cell_type": "markdown",
   "id": "d5a359ad",
   "metadata": {},
   "source": []
  },
  {
   "cell_type": "code",
   "execution_count": 1,
   "id": "35dd6bae",
   "metadata": {},
   "outputs": [],
   "source": [
    "# data visualisation and manipulation\n",
    "import numpy as np\n",
    "import pandas as pd\n",
    "import matplotlib.pyplot as plt\n",
    "from matplotlib import style\n",
    "import seaborn as sns\n",
    "#configure\n",
    "# sets matplotlib to inline and displays graphs below the corressponding cell.\n",
    "%matplotlib inline  \n",
    "style.use('fivethirtyeight')\n",
    "sns.set(style='whitegrid',color_codes=True)\n",
    "\n",
    "#import nltk\n",
    "import nltk\n",
    "from nltk.corpus import stopwords\n",
    "from nltk.tokenize import word_tokenize,sent_tokenize\n",
    "\n",
    "#preprocessing\n",
    "from nltk.corpus import stopwords  #stopwords\n",
    "from nltk import word_tokenize,sent_tokenize # tokenizing\n",
    "from nltk.stem import PorterStemmer,LancasterStemmer  # using the Porter Stemmer and Lancaster Stemmer and others\n",
    "from nltk.stem.snowball import SnowballStemmer\n",
    "from nltk.stem import WordNetLemmatizer  # lammatizer from WordNet\n",
    "\n",
    "# for named entity recognition (NER)\n",
    "from nltk import ne_chunk\n",
    "\n",
    "# vectorizers for creating the document-term-matrix (DTM)\n",
    "from sklearn.feature_extraction.text import TfidfVectorizer,CountVectorizer\n",
    "\n",
    "#stop-words\n",
    "stop_words=set(nltk.corpus.stopwords.words('indonesian'))"
   ]
  },
  {
   "cell_type": "markdown",
   "id": "d918c05a",
   "metadata": {},
   "source": []
  },
  {
   "cell_type": "code",
   "execution_count": 3,
   "id": "9b62da93",
   "metadata": {},
   "outputs": [
    {
     "ename": "NameError",
     "evalue": "name 'pd' is not defined",
     "output_type": "error",
     "traceback": [
      "\u001b[1;31m---------------------------------------------------------------------------\u001b[0m",
      "\u001b[1;31mNameError\u001b[0m                                 Traceback (most recent call last)",
      "Input \u001b[1;32mIn [3]\u001b[0m, in \u001b[0;36m<cell line: 1>\u001b[1;34m()\u001b[0m\n\u001b[1;32m----> 1\u001b[0m df\u001b[38;5;241m=\u001b[39m\u001b[43mpd\u001b[49m\u001b[38;5;241m.\u001b[39mread_csv(\u001b[38;5;124mr\u001b[39m\u001b[38;5;124m'\u001b[39m\u001b[38;5;124mjurnal.csv\u001b[39m\u001b[38;5;124m'\u001b[39m)\n",
      "\u001b[1;31mNameError\u001b[0m: name 'pd' is not defined"
     ]
    }
   ],
   "source": [
    "df=pd.read_csv(r'jurnal.csv')"
   ]
  },
  {
   "cell_type": "code",
   "execution_count": 7,
   "id": "76cef866",
   "metadata": {},
   "outputs": [
    {
     "ename": "NameError",
     "evalue": "name 'df' is not defined",
     "output_type": "error",
     "traceback": [
      "\u001b[1;31m---------------------------------------------------------------------------\u001b[0m",
      "\u001b[1;31mNameError\u001b[0m                                 Traceback (most recent call last)",
      "Input \u001b[1;32mIn [7]\u001b[0m, in \u001b[0;36m<cell line: 1>\u001b[1;34m()\u001b[0m\n\u001b[1;32m----> 1\u001b[0m \u001b[43mdf\u001b[49m\u001b[38;5;241m.\u001b[39mhead()\n",
      "\u001b[1;31mNameError\u001b[0m: name 'df' is not defined"
     ]
    }
   ],
   "source": [
    "df.head()"
   ]
  },
  {
   "cell_type": "code",
   "execution_count": 4,
   "id": "8d15a83e",
   "metadata": {},
   "outputs": [
    {
     "ename": "NameError",
     "evalue": "name 'df' is not defined",
     "output_type": "error",
     "traceback": [
      "\u001b[1;31m---------------------------------------------------------------------------\u001b[0m",
      "\u001b[1;31mNameError\u001b[0m                                 Traceback (most recent call last)",
      "Input \u001b[1;32mIn [4]\u001b[0m, in \u001b[0;36m<cell line: 2>\u001b[1;34m()\u001b[0m\n\u001b[0;32m      1\u001b[0m \u001b[38;5;66;03m# drop the publish date.\u001b[39;00m\n\u001b[1;32m----> 2\u001b[0m \u001b[43mdf\u001b[49m\u001b[38;5;241m.\u001b[39mdrop([\u001b[38;5;124m'\u001b[39m\u001b[38;5;124mTopik\u001b[39m\u001b[38;5;124m'\u001b[39m, \u001b[38;5;124m'\u001b[39m\u001b[38;5;124mTanggal\u001b[39m\u001b[38;5;124m'\u001b[39m, \u001b[38;5;124m'\u001b[39m\u001b[38;5;124mJudul\u001b[39m\u001b[38;5;124m'\u001b[39m],axis\u001b[38;5;241m=\u001b[39m\u001b[38;5;241m1\u001b[39m,inplace\u001b[38;5;241m=\u001b[39m\u001b[38;5;28;01mTrue\u001b[39;00m)\n",
      "\u001b[1;31mNameError\u001b[0m: name 'df' is not defined"
     ]
    }
   ],
   "source": [
    "# drop the publish date.\n",
    "df.drop(['Topik', 'Tanggal', 'Judul'],axis=1,inplace=True)"
   ]
  },
  {
   "cell_type": "code",
   "execution_count": 5,
   "id": "5b6d3509",
   "metadata": {},
   "outputs": [
    {
     "ename": "NameError",
     "evalue": "name 'df' is not defined",
     "output_type": "error",
     "traceback": [
      "\u001b[1;31m---------------------------------------------------------------------------\u001b[0m",
      "\u001b[1;31mNameError\u001b[0m                                 Traceback (most recent call last)",
      "Input \u001b[1;32mIn [5]\u001b[0m, in \u001b[0;36m<cell line: 1>\u001b[1;34m()\u001b[0m\n\u001b[1;32m----> 1\u001b[0m \u001b[43mdf\u001b[49m\u001b[38;5;241m.\u001b[39mhead(\u001b[38;5;241m10\u001b[39m)\n",
      "\u001b[1;31mNameError\u001b[0m: name 'df' is not defined"
     ]
    }
   ],
   "source": [
    "df.head(10)"
   ]
  },
  {
   "cell_type": "markdown",
   "id": "035238fe",
   "metadata": {},
   "source": [
    "# DATA CLEANING & PRE-PROCESSING"
   ]
  },
  {
   "cell_type": "markdown",
   "id": "2e700cce",
   "metadata": {},
   "source": []
  },
  {
   "cell_type": "code",
   "execution_count": 6,
   "id": "be02b939",
   "metadata": {},
   "outputs": [
    {
     "data": {
      "text/html": [
       "<div>\n",
       "<style scoped>\n",
       "    .dataframe tbody tr th:only-of-type {\n",
       "        vertical-align: middle;\n",
       "    }\n",
       "\n",
       "    .dataframe tbody tr th {\n",
       "        vertical-align: top;\n",
       "    }\n",
       "\n",
       "    .dataframe thead th {\n",
       "        text-align: right;\n",
       "    }\n",
       "</style>\n",
       "<table border=\"1\" class=\"dataframe\">\n",
       "  <thead>\n",
       "    <tr style=\"text-align: right;\">\n",
       "      <th></th>\n",
       "      <th>isi</th>\n",
       "      <th>hapus angka</th>\n",
       "    </tr>\n",
       "  </thead>\n",
       "  <tbody>\n",
       "    <tr>\n",
       "      <th>0</th>\n",
       "      <td>Fraksi PKS DPR akan mengadakan Konsolidasi Nas...</td>\n",
       "      <td>Fraksi PKS DPR akan mengadakan Konsolidasi Nas...</td>\n",
       "    </tr>\n",
       "    <tr>\n",
       "      <th>1</th>\n",
       "      <td>Isu perombakan (reshuffle) kabinet kembali men...</td>\n",
       "      <td>Isu perombakan (reshuffle) kabinet kembali men...</td>\n",
       "    </tr>\n",
       "    <tr>\n",
       "      <th>2</th>\n",
       "      <td>Komandan Korps Marinir Mayjen TNI (Mar) Widodo...</td>\n",
       "      <td>Komandan Korps Marinir Mayjen TNI (Mar) Widodo...</td>\n",
       "    </tr>\n",
       "    <tr>\n",
       "      <th>3</th>\n",
       "      <td>Ketua Komisi Pemilihan Umum (KPU) Ilham Saputr...</td>\n",
       "      <td>Ketua Komisi Pemilihan Umum (KPU) Ilham Saputr...</td>\n",
       "    </tr>\n",
       "    <tr>\n",
       "      <th>4</th>\n",
       "      <td>Menghadapi era disrupsi tentu tidak hanya diha...</td>\n",
       "      <td>Menghadapi era disrupsi tentu tidak hanya diha...</td>\n",
       "    </tr>\n",
       "    <tr>\n",
       "      <th>5</th>\n",
       "      <td>KPK menyelidiki kembali pengadaan E-KTP yang d...</td>\n",
       "      <td>KPK menyelidiki kembali pengadaan E-KTP yang d...</td>\n",
       "    </tr>\n",
       "    <tr>\n",
       "      <th>6</th>\n",
       "      <td>Polri meralat pernyataan terkait Gilang Widya ...</td>\n",
       "      <td>Polri meralat pernyataan terkait Gilang Widya ...</td>\n",
       "    </tr>\n",
       "    <tr>\n",
       "      <th>7</th>\n",
       "      <td>Akademisi Universitas Paramadina, Yudi Latif m...</td>\n",
       "      <td>Akademisi Universitas Paramadina, Yudi Latif m...</td>\n",
       "    </tr>\n",
       "    <tr>\n",
       "      <th>8</th>\n",
       "      <td>Komisi Pemilihan Umum (KPU) menggelar simulasi...</td>\n",
       "      <td>Komisi Pemilihan Umum (KPU) menggelar simulasi...</td>\n",
       "    </tr>\n",
       "    <tr>\n",
       "      <th>9</th>\n",
       "      <td>Puncak Haul ke-5 KH Hasyim Muzadi telah digela...</td>\n",
       "      <td>Puncak Haul ke- KH Hasyim Muzadi telah digelar...</td>\n",
       "    </tr>\n",
       "  </tbody>\n",
       "</table>\n",
       "</div>"
      ],
      "text/plain": [
       "                                                 isi  \\\n",
       "0  Fraksi PKS DPR akan mengadakan Konsolidasi Nas...   \n",
       "1  Isu perombakan (reshuffle) kabinet kembali men...   \n",
       "2  Komandan Korps Marinir Mayjen TNI (Mar) Widodo...   \n",
       "3  Ketua Komisi Pemilihan Umum (KPU) Ilham Saputr...   \n",
       "4  Menghadapi era disrupsi tentu tidak hanya diha...   \n",
       "5  KPK menyelidiki kembali pengadaan E-KTP yang d...   \n",
       "6  Polri meralat pernyataan terkait Gilang Widya ...   \n",
       "7  Akademisi Universitas Paramadina, Yudi Latif m...   \n",
       "8  Komisi Pemilihan Umum (KPU) menggelar simulasi...   \n",
       "9  Puncak Haul ke-5 KH Hasyim Muzadi telah digela...   \n",
       "\n",
       "                                         hapus angka  \n",
       "0  Fraksi PKS DPR akan mengadakan Konsolidasi Nas...  \n",
       "1  Isu perombakan (reshuffle) kabinet kembali men...  \n",
       "2  Komandan Korps Marinir Mayjen TNI (Mar) Widodo...  \n",
       "3  Ketua Komisi Pemilihan Umum (KPU) Ilham Saputr...  \n",
       "4  Menghadapi era disrupsi tentu tidak hanya diha...  \n",
       "5  KPK menyelidiki kembali pengadaan E-KTP yang d...  \n",
       "6  Polri meralat pernyataan terkait Gilang Widya ...  \n",
       "7  Akademisi Universitas Paramadina, Yudi Latif m...  \n",
       "8  Komisi Pemilihan Umum (KPU) menggelar simulasi...  \n",
       "9  Puncak Haul ke- KH Hasyim Muzadi telah digelar...  "
      ]
     },
     "execution_count": 6,
     "metadata": {},
     "output_type": "execute_result"
    }
   ],
   "source": [
    "import string \n",
    "import re #regex library\n",
    "\n",
    "# import word_tokenize & FreqDist from NLTK\n",
    "from nltk.tokenize import word_tokenize \n",
    "from nltk.probability import FreqDist\n",
    "\n",
    "#remove number\n",
    "def remove_number(text):\n",
    "    return  re.sub(r\"\\d+\", \"\", text)\n",
    "\n",
    "df['hapus angka'] = df['isi'].apply(remove_number)\n",
    "df.head(10)"
   ]
  },
  {
   "cell_type": "markdown",
   "id": "fa288843",
   "metadata": {},
   "source": []
  },
  {
   "cell_type": "code",
   "execution_count": 7,
   "id": "b8f025ce",
   "metadata": {},
   "outputs": [
    {
     "data": {
      "text/html": [
       "<div>\n",
       "<style scoped>\n",
       "    .dataframe tbody tr th:only-of-type {\n",
       "        vertical-align: middle;\n",
       "    }\n",
       "\n",
       "    .dataframe tbody tr th {\n",
       "        vertical-align: top;\n",
       "    }\n",
       "\n",
       "    .dataframe thead th {\n",
       "        text-align: right;\n",
       "    }\n",
       "</style>\n",
       "<table border=\"1\" class=\"dataframe\">\n",
       "  <thead>\n",
       "    <tr style=\"text-align: right;\">\n",
       "      <th></th>\n",
       "      <th>isi</th>\n",
       "      <th>hapus angka</th>\n",
       "      <th>hapus simbol</th>\n",
       "    </tr>\n",
       "  </thead>\n",
       "  <tbody>\n",
       "    <tr>\n",
       "      <th>0</th>\n",
       "      <td>Fraksi PKS DPR akan mengadakan Konsolidasi Nas...</td>\n",
       "      <td>Fraksi PKS DPR akan mengadakan Konsolidasi Nas...</td>\n",
       "      <td>Fraksi PKS DPR akan mengadakan Konsolidasi Nas...</td>\n",
       "    </tr>\n",
       "    <tr>\n",
       "      <th>1</th>\n",
       "      <td>Isu perombakan (reshuffle) kabinet kembali men...</td>\n",
       "      <td>Isu perombakan (reshuffle) kabinet kembali men...</td>\n",
       "      <td>Isu perombakan reshuffle kabinet kembali mencu...</td>\n",
       "    </tr>\n",
       "    <tr>\n",
       "      <th>2</th>\n",
       "      <td>Komandan Korps Marinir Mayjen TNI (Mar) Widodo...</td>\n",
       "      <td>Komandan Korps Marinir Mayjen TNI (Mar) Widodo...</td>\n",
       "      <td>Komandan Korps Marinir Mayjen TNI Mar Widodo D...</td>\n",
       "    </tr>\n",
       "    <tr>\n",
       "      <th>3</th>\n",
       "      <td>Ketua Komisi Pemilihan Umum (KPU) Ilham Saputr...</td>\n",
       "      <td>Ketua Komisi Pemilihan Umum (KPU) Ilham Saputr...</td>\n",
       "      <td>Ketua Komisi Pemilihan Umum KPU Ilham Saputra ...</td>\n",
       "    </tr>\n",
       "    <tr>\n",
       "      <th>4</th>\n",
       "      <td>Menghadapi era disrupsi tentu tidak hanya diha...</td>\n",
       "      <td>Menghadapi era disrupsi tentu tidak hanya diha...</td>\n",
       "      <td>Menghadapi era disrupsi tentu tidak hanya diha...</td>\n",
       "    </tr>\n",
       "    <tr>\n",
       "      <th>5</th>\n",
       "      <td>KPK menyelidiki kembali pengadaan E-KTP yang d...</td>\n",
       "      <td>KPK menyelidiki kembali pengadaan E-KTP yang d...</td>\n",
       "      <td>KPK menyelidiki kembali pengadaan EKTP yang di...</td>\n",
       "    </tr>\n",
       "    <tr>\n",
       "      <th>6</th>\n",
       "      <td>Polri meralat pernyataan terkait Gilang Widya ...</td>\n",
       "      <td>Polri meralat pernyataan terkait Gilang Widya ...</td>\n",
       "      <td>Polri meralat pernyataan terkait Gilang Widya ...</td>\n",
       "    </tr>\n",
       "    <tr>\n",
       "      <th>7</th>\n",
       "      <td>Akademisi Universitas Paramadina, Yudi Latif m...</td>\n",
       "      <td>Akademisi Universitas Paramadina, Yudi Latif m...</td>\n",
       "      <td>Akademisi Universitas Paramadina Yudi Latif me...</td>\n",
       "    </tr>\n",
       "    <tr>\n",
       "      <th>8</th>\n",
       "      <td>Komisi Pemilihan Umum (KPU) menggelar simulasi...</td>\n",
       "      <td>Komisi Pemilihan Umum (KPU) menggelar simulasi...</td>\n",
       "      <td>Komisi Pemilihan Umum KPU menggelar simulasi p...</td>\n",
       "    </tr>\n",
       "    <tr>\n",
       "      <th>9</th>\n",
       "      <td>Puncak Haul ke-5 KH Hasyim Muzadi telah digela...</td>\n",
       "      <td>Puncak Haul ke- KH Hasyim Muzadi telah digelar...</td>\n",
       "      <td>Puncak Haul ke KH Hasyim Muzadi telah digelar ...</td>\n",
       "    </tr>\n",
       "  </tbody>\n",
       "</table>\n",
       "</div>"
      ],
      "text/plain": [
       "                                                 isi  \\\n",
       "0  Fraksi PKS DPR akan mengadakan Konsolidasi Nas...   \n",
       "1  Isu perombakan (reshuffle) kabinet kembali men...   \n",
       "2  Komandan Korps Marinir Mayjen TNI (Mar) Widodo...   \n",
       "3  Ketua Komisi Pemilihan Umum (KPU) Ilham Saputr...   \n",
       "4  Menghadapi era disrupsi tentu tidak hanya diha...   \n",
       "5  KPK menyelidiki kembali pengadaan E-KTP yang d...   \n",
       "6  Polri meralat pernyataan terkait Gilang Widya ...   \n",
       "7  Akademisi Universitas Paramadina, Yudi Latif m...   \n",
       "8  Komisi Pemilihan Umum (KPU) menggelar simulasi...   \n",
       "9  Puncak Haul ke-5 KH Hasyim Muzadi telah digela...   \n",
       "\n",
       "                                         hapus angka  \\\n",
       "0  Fraksi PKS DPR akan mengadakan Konsolidasi Nas...   \n",
       "1  Isu perombakan (reshuffle) kabinet kembali men...   \n",
       "2  Komandan Korps Marinir Mayjen TNI (Mar) Widodo...   \n",
       "3  Ketua Komisi Pemilihan Umum (KPU) Ilham Saputr...   \n",
       "4  Menghadapi era disrupsi tentu tidak hanya diha...   \n",
       "5  KPK menyelidiki kembali pengadaan E-KTP yang d...   \n",
       "6  Polri meralat pernyataan terkait Gilang Widya ...   \n",
       "7  Akademisi Universitas Paramadina, Yudi Latif m...   \n",
       "8  Komisi Pemilihan Umum (KPU) menggelar simulasi...   \n",
       "9  Puncak Haul ke- KH Hasyim Muzadi telah digelar...   \n",
       "\n",
       "                                        hapus simbol  \n",
       "0  Fraksi PKS DPR akan mengadakan Konsolidasi Nas...  \n",
       "1  Isu perombakan reshuffle kabinet kembali mencu...  \n",
       "2  Komandan Korps Marinir Mayjen TNI Mar Widodo D...  \n",
       "3  Ketua Komisi Pemilihan Umum KPU Ilham Saputra ...  \n",
       "4  Menghadapi era disrupsi tentu tidak hanya diha...  \n",
       "5  KPK menyelidiki kembali pengadaan EKTP yang di...  \n",
       "6  Polri meralat pernyataan terkait Gilang Widya ...  \n",
       "7  Akademisi Universitas Paramadina Yudi Latif me...  \n",
       "8  Komisi Pemilihan Umum KPU menggelar simulasi p...  \n",
       "9  Puncak Haul ke KH Hasyim Muzadi telah digelar ...  "
      ]
     },
     "execution_count": 7,
     "metadata": {},
     "output_type": "execute_result"
    }
   ],
   "source": [
    "#remove punctuation(simbol dan tanda baca)\n",
    "def remove_punctuation(text):\n",
    "    return text.translate(str.maketrans(\"\",\"\",string.punctuation))\n",
    "\n",
    "df['hapus simbol'] = df['hapus angka'].apply(remove_punctuation)\n",
    "df.head(10)"
   ]
  },
  {
   "cell_type": "markdown",
   "id": "fa7e008d",
   "metadata": {},
   "source": []
  },
  {
   "cell_type": "markdown",
   "id": "75b9f360",
   "metadata": {},
   "source": [
    " "
   ]
  },
  {
   "cell_type": "code",
   "execution_count": 8,
   "id": "ef088200",
   "metadata": {},
   "outputs": [],
   "source": [
    "def clean_text(headline):\n",
    "  le=WordNetLemmatizer()\n",
    "  word_tokens=word_tokenize(headline)\n",
    "  tokens=[le.lemmatize(w) for w in word_tokens if w not in stop_words and len(w)>3]\n",
    "  cleaned_text=\" \".join(tokens)\n",
    "  return cleaned_text"
   ]
  },
  {
   "cell_type": "code",
   "execution_count": 9,
   "id": "cab12607",
   "metadata": {},
   "outputs": [],
   "source": [
    "# time taking\n",
    "df['stopword']=df['hapus simbol'].apply(clean_text)"
   ]
  },
  {
   "cell_type": "code",
   "execution_count": 10,
   "id": "a2fda858",
   "metadata": {},
   "outputs": [
    {
     "data": {
      "text/html": [
       "<div>\n",
       "<style scoped>\n",
       "    .dataframe tbody tr th:only-of-type {\n",
       "        vertical-align: middle;\n",
       "    }\n",
       "\n",
       "    .dataframe tbody tr th {\n",
       "        vertical-align: top;\n",
       "    }\n",
       "\n",
       "    .dataframe thead th {\n",
       "        text-align: right;\n",
       "    }\n",
       "</style>\n",
       "<table border=\"1\" class=\"dataframe\">\n",
       "  <thead>\n",
       "    <tr style=\"text-align: right;\">\n",
       "      <th></th>\n",
       "      <th>isi</th>\n",
       "      <th>hapus angka</th>\n",
       "      <th>hapus simbol</th>\n",
       "      <th>stopword</th>\n",
       "    </tr>\n",
       "  </thead>\n",
       "  <tbody>\n",
       "    <tr>\n",
       "      <th>0</th>\n",
       "      <td>Fraksi PKS DPR akan mengadakan Konsolidasi Nas...</td>\n",
       "      <td>Fraksi PKS DPR akan mengadakan Konsolidasi Nas...</td>\n",
       "      <td>Fraksi PKS DPR akan mengadakan Konsolidasi Nas...</td>\n",
       "      <td>Fraksi mengadakan Konsolidasi Nasional Pimpina...</td>\n",
       "    </tr>\n",
       "    <tr>\n",
       "      <th>1</th>\n",
       "      <td>Isu perombakan (reshuffle) kabinet kembali men...</td>\n",
       "      <td>Isu perombakan (reshuffle) kabinet kembali men...</td>\n",
       "      <td>Isu perombakan reshuffle kabinet kembali mencu...</td>\n",
       "      <td>perombakan reshuffle kabinet mencuat permukaan...</td>\n",
       "    </tr>\n",
       "    <tr>\n",
       "      <th>2</th>\n",
       "      <td>Komandan Korps Marinir Mayjen TNI (Mar) Widodo...</td>\n",
       "      <td>Komandan Korps Marinir Mayjen TNI (Mar) Widodo...</td>\n",
       "      <td>Komandan Korps Marinir Mayjen TNI Mar Widodo D...</td>\n",
       "      <td>Komandan Korps Marinir Mayjen Widodo Purwanto ...</td>\n",
       "    </tr>\n",
       "    <tr>\n",
       "      <th>3</th>\n",
       "      <td>Ketua Komisi Pemilihan Umum (KPU) Ilham Saputr...</td>\n",
       "      <td>Ketua Komisi Pemilihan Umum (KPU) Ilham Saputr...</td>\n",
       "      <td>Ketua Komisi Pemilihan Umum KPU Ilham Saputra ...</td>\n",
       "      <td>Ketua Komisi Pemilihan Umum Ilham Saputra penu...</td>\n",
       "    </tr>\n",
       "    <tr>\n",
       "      <th>4</th>\n",
       "      <td>Menghadapi era disrupsi tentu tidak hanya diha...</td>\n",
       "      <td>Menghadapi era disrupsi tentu tidak hanya diha...</td>\n",
       "      <td>Menghadapi era disrupsi tentu tidak hanya diha...</td>\n",
       "      <td>Menghadapi disrupsi dihadapkan inovasi pemanfa...</td>\n",
       "    </tr>\n",
       "    <tr>\n",
       "      <th>5</th>\n",
       "      <td>KPK menyelidiki kembali pengadaan E-KTP yang d...</td>\n",
       "      <td>KPK menyelidiki kembali pengadaan E-KTP yang d...</td>\n",
       "      <td>KPK menyelidiki kembali pengadaan EKTP yang di...</td>\n",
       "      <td>menyelidiki pengadaan EKTP diduga merugikan ke...</td>\n",
       "    </tr>\n",
       "    <tr>\n",
       "      <th>6</th>\n",
       "      <td>Polri meralat pernyataan terkait Gilang Widya ...</td>\n",
       "      <td>Polri meralat pernyataan terkait Gilang Widya ...</td>\n",
       "      <td>Polri meralat pernyataan terkait Gilang Widya ...</td>\n",
       "      <td>Polri meralat pernyataan terkait Gilang Widya ...</td>\n",
       "    </tr>\n",
       "    <tr>\n",
       "      <th>7</th>\n",
       "      <td>Akademisi Universitas Paramadina, Yudi Latif m...</td>\n",
       "      <td>Akademisi Universitas Paramadina, Yudi Latif m...</td>\n",
       "      <td>Akademisi Universitas Paramadina Yudi Latif me...</td>\n",
       "      <td>Akademisi Universitas Paramadina Yudi Latif In...</td>\n",
       "    </tr>\n",
       "    <tr>\n",
       "      <th>8</th>\n",
       "      <td>Komisi Pemilihan Umum (KPU) menggelar simulasi...</td>\n",
       "      <td>Komisi Pemilihan Umum (KPU) menggelar simulasi...</td>\n",
       "      <td>Komisi Pemilihan Umum KPU menggelar simulasi p...</td>\n",
       "      <td>Komisi Pemilihan Umum menggelar simulasi penye...</td>\n",
       "    </tr>\n",
       "    <tr>\n",
       "      <th>9</th>\n",
       "      <td>Puncak Haul ke-5 KH Hasyim Muzadi telah digela...</td>\n",
       "      <td>Puncak Haul ke- KH Hasyim Muzadi telah digelar...</td>\n",
       "      <td>Puncak Haul ke KH Hasyim Muzadi telah digelar ...</td>\n",
       "      <td>Puncak Haul Hasyim Muzadi digelar Masjid Pesan...</td>\n",
       "    </tr>\n",
       "  </tbody>\n",
       "</table>\n",
       "</div>"
      ],
      "text/plain": [
       "                                                 isi  \\\n",
       "0  Fraksi PKS DPR akan mengadakan Konsolidasi Nas...   \n",
       "1  Isu perombakan (reshuffle) kabinet kembali men...   \n",
       "2  Komandan Korps Marinir Mayjen TNI (Mar) Widodo...   \n",
       "3  Ketua Komisi Pemilihan Umum (KPU) Ilham Saputr...   \n",
       "4  Menghadapi era disrupsi tentu tidak hanya diha...   \n",
       "5  KPK menyelidiki kembali pengadaan E-KTP yang d...   \n",
       "6  Polri meralat pernyataan terkait Gilang Widya ...   \n",
       "7  Akademisi Universitas Paramadina, Yudi Latif m...   \n",
       "8  Komisi Pemilihan Umum (KPU) menggelar simulasi...   \n",
       "9  Puncak Haul ke-5 KH Hasyim Muzadi telah digela...   \n",
       "\n",
       "                                         hapus angka  \\\n",
       "0  Fraksi PKS DPR akan mengadakan Konsolidasi Nas...   \n",
       "1  Isu perombakan (reshuffle) kabinet kembali men...   \n",
       "2  Komandan Korps Marinir Mayjen TNI (Mar) Widodo...   \n",
       "3  Ketua Komisi Pemilihan Umum (KPU) Ilham Saputr...   \n",
       "4  Menghadapi era disrupsi tentu tidak hanya diha...   \n",
       "5  KPK menyelidiki kembali pengadaan E-KTP yang d...   \n",
       "6  Polri meralat pernyataan terkait Gilang Widya ...   \n",
       "7  Akademisi Universitas Paramadina, Yudi Latif m...   \n",
       "8  Komisi Pemilihan Umum (KPU) menggelar simulasi...   \n",
       "9  Puncak Haul ke- KH Hasyim Muzadi telah digelar...   \n",
       "\n",
       "                                        hapus simbol  \\\n",
       "0  Fraksi PKS DPR akan mengadakan Konsolidasi Nas...   \n",
       "1  Isu perombakan reshuffle kabinet kembali mencu...   \n",
       "2  Komandan Korps Marinir Mayjen TNI Mar Widodo D...   \n",
       "3  Ketua Komisi Pemilihan Umum KPU Ilham Saputra ...   \n",
       "4  Menghadapi era disrupsi tentu tidak hanya diha...   \n",
       "5  KPK menyelidiki kembali pengadaan EKTP yang di...   \n",
       "6  Polri meralat pernyataan terkait Gilang Widya ...   \n",
       "7  Akademisi Universitas Paramadina Yudi Latif me...   \n",
       "8  Komisi Pemilihan Umum KPU menggelar simulasi p...   \n",
       "9  Puncak Haul ke KH Hasyim Muzadi telah digelar ...   \n",
       "\n",
       "                                            stopword  \n",
       "0  Fraksi mengadakan Konsolidasi Nasional Pimpina...  \n",
       "1  perombakan reshuffle kabinet mencuat permukaan...  \n",
       "2  Komandan Korps Marinir Mayjen Widodo Purwanto ...  \n",
       "3  Ketua Komisi Pemilihan Umum Ilham Saputra penu...  \n",
       "4  Menghadapi disrupsi dihadapkan inovasi pemanfa...  \n",
       "5  menyelidiki pengadaan EKTP diduga merugikan ke...  \n",
       "6  Polri meralat pernyataan terkait Gilang Widya ...  \n",
       "7  Akademisi Universitas Paramadina Yudi Latif In...  \n",
       "8  Komisi Pemilihan Umum menggelar simulasi penye...  \n",
       "9  Puncak Haul Hasyim Muzadi digelar Masjid Pesan...  "
      ]
     },
     "execution_count": 10,
     "metadata": {},
     "output_type": "execute_result"
    }
   ],
   "source": [
    "df.head(10)"
   ]
  },
  {
   "cell_type": "code",
   "execution_count": 11,
   "id": "0f82d496",
   "metadata": {},
   "outputs": [
    {
     "data": {
      "text/html": [
       "<div>\n",
       "<style scoped>\n",
       "    .dataframe tbody tr th:only-of-type {\n",
       "        vertical-align: middle;\n",
       "    }\n",
       "\n",
       "    .dataframe tbody tr th {\n",
       "        vertical-align: top;\n",
       "    }\n",
       "\n",
       "    .dataframe thead th {\n",
       "        text-align: right;\n",
       "    }\n",
       "</style>\n",
       "<table border=\"1\" class=\"dataframe\">\n",
       "  <thead>\n",
       "    <tr style=\"text-align: right;\">\n",
       "      <th></th>\n",
       "      <th>stopword</th>\n",
       "    </tr>\n",
       "  </thead>\n",
       "  <tbody>\n",
       "    <tr>\n",
       "      <th>0</th>\n",
       "      <td>Fraksi mengadakan Konsolidasi Nasional Pimpina...</td>\n",
       "    </tr>\n",
       "    <tr>\n",
       "      <th>1</th>\n",
       "      <td>perombakan reshuffle kabinet mencuat permukaan...</td>\n",
       "    </tr>\n",
       "    <tr>\n",
       "      <th>2</th>\n",
       "      <td>Komandan Korps Marinir Mayjen Widodo Purwanto ...</td>\n",
       "    </tr>\n",
       "    <tr>\n",
       "      <th>3</th>\n",
       "      <td>Ketua Komisi Pemilihan Umum Ilham Saputra penu...</td>\n",
       "    </tr>\n",
       "    <tr>\n",
       "      <th>4</th>\n",
       "      <td>Menghadapi disrupsi dihadapkan inovasi pemanfa...</td>\n",
       "    </tr>\n",
       "    <tr>\n",
       "      <th>5</th>\n",
       "      <td>menyelidiki pengadaan EKTP diduga merugikan ke...</td>\n",
       "    </tr>\n",
       "    <tr>\n",
       "      <th>6</th>\n",
       "      <td>Polri meralat pernyataan terkait Gilang Widya ...</td>\n",
       "    </tr>\n",
       "    <tr>\n",
       "      <th>7</th>\n",
       "      <td>Akademisi Universitas Paramadina Yudi Latif In...</td>\n",
       "    </tr>\n",
       "    <tr>\n",
       "      <th>8</th>\n",
       "      <td>Komisi Pemilihan Umum menggelar simulasi penye...</td>\n",
       "    </tr>\n",
       "    <tr>\n",
       "      <th>9</th>\n",
       "      <td>Puncak Haul Hasyim Muzadi digelar Masjid Pesan...</td>\n",
       "    </tr>\n",
       "  </tbody>\n",
       "</table>\n",
       "</div>"
      ],
      "text/plain": [
       "                                            stopword\n",
       "0  Fraksi mengadakan Konsolidasi Nasional Pimpina...\n",
       "1  perombakan reshuffle kabinet mencuat permukaan...\n",
       "2  Komandan Korps Marinir Mayjen Widodo Purwanto ...\n",
       "3  Ketua Komisi Pemilihan Umum Ilham Saputra penu...\n",
       "4  Menghadapi disrupsi dihadapkan inovasi pemanfa...\n",
       "5  menyelidiki pengadaan EKTP diduga merugikan ke...\n",
       "6  Polri meralat pernyataan terkait Gilang Widya ...\n",
       "7  Akademisi Universitas Paramadina Yudi Latif In...\n",
       "8  Komisi Pemilihan Umum menggelar simulasi penye...\n",
       "9  Puncak Haul Hasyim Muzadi digelar Masjid Pesan..."
      ]
     },
     "execution_count": 11,
     "metadata": {},
     "output_type": "execute_result"
    }
   ],
   "source": [
    "df.drop(['isi', 'hapus angka', 'hapus simbol'],axis=1,inplace=True)\n",
    "df.head(10)"
   ]
  },
  {
   "cell_type": "code",
   "execution_count": 12,
   "id": "793d98f4",
   "metadata": {},
   "outputs": [
    {
     "data": {
      "text/plain": [
       "'Fraksi mengadakan Konsolidasi Nasional Pimpinan Fraksi DPRD Indonesia memantapkan kerja Pemilu'"
      ]
     },
     "execution_count": 12,
     "metadata": {},
     "output_type": "execute_result"
    }
   ],
   "source": [
    "df['stopword'][0]"
   ]
  },
  {
   "cell_type": "code",
   "execution_count": 13,
   "id": "525a69a7",
   "metadata": {},
   "outputs": [],
   "source": [
    "vect =TfidfVectorizer(stop_words=stop_words,max_features=1000)"
   ]
  },
  {
   "cell_type": "code",
   "execution_count": 14,
   "id": "54565787",
   "metadata": {
    "scrolled": true
   },
   "outputs": [
    {
     "name": "stderr",
     "output_type": "stream",
     "text": [
      "C:\\Users\\Lenovo\\anaconda3\\lib\\site-packages\\sklearn\\feature_extraction\\text.py:388: UserWarning: Your stop_words may be inconsistent with your preprocessing. Tokenizing the stop words generated tokens ['baiknya', 'berkali', 'kali', 'kurangnya', 'mata', 'olah', 'sekurang', 'setidak', 'tama', 'tidaknya'] not in stop_words.\n",
      "  warnings.warn('Your stop_words may be inconsistent with '\n"
     ]
    }
   ],
   "source": [
    "vect_text=vect.fit_transform(df['stopword'])"
   ]
  },
  {
   "cell_type": "code",
   "execution_count": 15,
   "id": "d08255f5",
   "metadata": {},
   "outputs": [
    {
     "name": "stdout",
     "output_type": "stream",
     "text": [
      "(24, 260)\n",
      "  (0, 163)\t0.18869386076704192\n",
      "  (0, 95)\t0.29269397113686996\n",
      "  (0, 122)\t0.29269397113686996\n",
      "  (0, 67)\t0.2014909246321031\n",
      "  (0, 49)\t0.29269397113686996\n",
      "  (0, 190)\t0.29269397113686996\n",
      "  (0, 146)\t0.2590336402883218\n",
      "  (0, 103)\t0.29269397113686996\n",
      "  (0, 128)\t0.29269397113686996\n",
      "  (0, 56)\t0.5853879422737399\n",
      "  (1, 209)\t0.2773500981126146\n",
      "  (1, 84)\t0.2773500981126146\n",
      "  (1, 253)\t0.2773500981126146\n",
      "  (1, 98)\t0.2773500981126146\n",
      "  (1, 80)\t0.2773500981126146\n",
      "  (1, 202)\t0.2773500981126146\n",
      "  (1, 82)\t0.2773500981126146\n",
      "  (1, 204)\t0.2773500981126146\n",
      "  (1, 182)\t0.2773500981126146\n",
      "  (1, 125)\t0.2773500981126146\n",
      "  (1, 83)\t0.2773500981126146\n",
      "  (1, 216)\t0.2773500981126146\n",
      "  (1, 184)\t0.2773500981126146\n",
      "  (2, 111)\t0.2759433236738673\n",
      "  (2, 180)\t0.2442093472812789\n",
      "  :\t:\n",
      "  (21, 160)\t0.2533013601388901\n",
      "  (21, 177)\t0.2533013601388901\n",
      "  (21, 172)\t0.2533013601388901\n",
      "  (21, 50)\t0.2533013601388901\n",
      "  (21, 14)\t0.22994748012388555\n",
      "  (21, 247)\t0.2533013601388901\n",
      "  (21, 195)\t0.22994748012388555\n",
      "  (22, 26)\t0.2609920556495093\n",
      "  (22, 39)\t0.2609920556495093\n",
      "  (22, 239)\t0.2609920556495093\n",
      "  (22, 199)\t0.2609920556495093\n",
      "  (22, 19)\t0.2609920556495093\n",
      "  (22, 57)\t0.5219841112990186\n",
      "  (22, 85)\t0.2609920556495093\n",
      "  (22, 225)\t0.2609920556495093\n",
      "  (22, 155)\t0.46195500371007486\n",
      "  (22, 96)\t0.193163636105512\n",
      "  (23, 181)\t0.3744271379567232\n",
      "  (23, 222)\t0.3744271379567232\n",
      "  (23, 102)\t0.3744271379567232\n",
      "  (23, 44)\t0.3744271379567232\n",
      "  (23, 180)\t0.331367346552941\n",
      "  (23, 6)\t0.331367346552941\n",
      "  (23, 79)\t0.331367346552941\n",
      "  (23, 153)\t0.331367346552941\n"
     ]
    }
   ],
   "source": [
    "print(vect_text.shape)\n",
    "print(vect_text)"
   ]
  },
  {
   "cell_type": "code",
   "execution_count": 16,
   "id": "517136e5",
   "metadata": {},
   "outputs": [],
   "source": [
    "idf=vect.idf_"
   ]
  },
  {
   "cell_type": "code",
   "execution_count": 17,
   "id": "e1ae9992",
   "metadata": {},
   "outputs": [
    {
     "name": "stdout",
     "output_type": "stream",
     "text": [
      "pemilu yustiavandana\n"
     ]
    }
   ],
   "source": [
    "dd=dict(zip(vect.get_feature_names(), idf))\n",
    "l=sorted(dd, key=(dd).get)\n",
    "# print(l)\n",
    "print(l[0],l[-1])"
   ]
  },
  {
   "cell_type": "markdown",
   "id": "7b02ee55",
   "metadata": {},
   "source": [
    "## LSA"
   ]
  },
  {
   "cell_type": "code",
   "execution_count": 18,
   "id": "02668102",
   "metadata": {},
   "outputs": [],
   "source": [
    "from sklearn.decomposition import TruncatedSVD\n",
    "lsa_model = TruncatedSVD(n_components=10, algorithm='randomized', n_iter=10, random_state=42)\n",
    "\n",
    "lsa_top=lsa_model.fit_transform(vect_text)"
   ]
  },
  {
   "cell_type": "code",
   "execution_count": 19,
   "id": "ba892e9f",
   "metadata": {},
   "outputs": [
    {
     "name": "stdout",
     "output_type": "stream",
     "text": [
      "[[ 6.11605737e-02  2.44100425e-01  2.42634424e-04 -2.91946426e-01\n",
      "  -1.05966812e-01  3.47203932e-01 -2.35408690e-01  1.97805561e-01\n",
      "   3.08195727e-01  3.58289265e-05]\n",
      " [-3.31245963e-05 -1.83675709e-04 -3.50062244e-04 -9.51883543e-05\n",
      "   1.08897709e-03 -9.42945428e-03  1.16533567e-02  3.07078368e-03\n",
      "  -1.65778807e-02  3.33474672e-01]\n",
      " [-7.21039009e-05 -5.69364583e-04  8.12835163e-01 -4.51938909e-04\n",
      "   6.46878225e-04 -1.01586252e-02  8.25710239e-03  1.22425049e-03\n",
      "   3.96578422e-04 -3.02486033e-04]\n",
      " [ 1.98831992e-01  6.16447005e-01 -2.39882067e-03 -8.88450045e-02\n",
      "  -1.56149133e-01 -2.59008932e-01 -1.21159593e-01  5.43457004e-02\n",
      "  -1.04913093e-01 -2.06388741e-04]\n",
      " [ 1.08430119e-04  6.13016133e-04  8.89682122e-04  7.74685026e-04\n",
      "  -2.68261238e-03  2.69252793e-02 -2.86561224e-02 -9.94791626e-03\n",
      "   4.05761564e-02  1.39950791e-01]\n",
      " [ 1.60178470e-02  7.18214760e-02  9.81473497e-04 -1.68580835e-01\n",
      "   8.44908471e-02  4.72829580e-01 -1.06315446e-01 -1.98270453e-01\n",
      "  -2.10672417e-01 -6.40663594e-05]\n",
      " [ 7.77653996e-01 -3.07576137e-01 -5.67750745e-04 -1.12907100e-01\n",
      "  -1.49102449e-02 -1.05951486e-02  1.01927269e-02  7.80276817e-02\n",
      "  -4.24751532e-02  5.54143272e-04]\n",
      " [ 5.49761638e-02  2.19518674e-01 -6.59603506e-04 -2.62253893e-01\n",
      "  -8.98642674e-02  2.70136315e-01 -1.41859729e-01  1.01526744e-01\n",
      "  -1.65086451e-01  6.66874018e-07]\n",
      " [ 1.78959009e-01  5.25593881e-01  1.34811990e-03  5.70843376e-02\n",
      "  -1.58523206e-01 -3.05813844e-01 -3.57860991e-01  2.76402684e-02\n",
      "  -1.21987424e-01  2.93878295e-04]\n",
      " [-4.32057861e-06 -2.60842574e-05 -1.00623238e-05 -7.93097126e-05\n",
      "   1.72110638e-05 -7.02795413e-04  2.17219808e-04  3.99700687e-04\n",
      "  -1.19332559e-04  9.32312579e-01]\n",
      " [ 6.47861058e-01 -2.78119483e-01  4.09543650e-04 -1.45655826e-01\n",
      "  -2.75451319e-02 -5.44662964e-03  8.88915729e-03  1.85030829e-01\n",
      "  -1.04465855e-01 -4.03344442e-04]\n",
      " [ 3.00687267e-01  4.08379214e-01  1.92698072e-03  4.86711424e-01\n",
      "   7.17620307e-02  4.00878121e-02 -3.92724880e-02 -3.52566407e-01\n",
      "   1.75387113e-01 -1.96970635e-05]\n",
      " [ 6.47052553e-02  2.61928513e-01  4.15337962e-04 -3.71735598e-01\n",
      "   3.36265404e-01  3.82984365e-02  1.05991856e-01  2.85884310e-02\n",
      "  -1.73117544e-01  3.80298367e-05]\n",
      " [ 7.39567204e-03  3.68050588e-02 -1.70367404e-03 -1.48241891e-01\n",
      "   6.52239998e-01 -2.10457087e-01 -7.39341201e-02 -1.47309625e-02\n",
      "   8.26313217e-02 -2.02017169e-05]\n",
      " [ 1.45226869e-01  2.99172525e-01 -1.55168819e-03  5.76050729e-01\n",
      "   2.18432876e-01  2.19679459e-01  1.04625986e-01  2.02563432e-01\n",
      "  -3.43953587e-02  2.70110900e-05]\n",
      " [ 5.55892622e-03  2.60287825e-02 -1.30289613e-03 -6.33998033e-02\n",
      "  -3.61780620e-02  1.55008376e-01 -1.79231642e-01  2.32340923e-01\n",
      "   7.75706179e-01 -3.03639305e-05]\n",
      " [ 9.54732167e-03  4.12753031e-02 -1.42298193e-03 -9.84137186e-02\n",
      "  -6.54385599e-03  3.67674878e-01 -1.09649389e-01 -1.87868310e-01\n",
      "  -8.40350535e-02  3.13534292e-04]\n",
      " [ 6.36749853e-02  1.91581484e-01 -1.96215221e-03 -1.27716671e-01\n",
      "   6.60185384e-02  3.48663024e-01  1.73136259e-01 -4.49174628e-01\n",
      "  -2.08777792e-04 -8.63174511e-05]\n",
      " [ 7.80132933e-03  3.89818679e-02  2.07623798e-03 -1.47352521e-01\n",
      "   6.43291962e-01 -1.46236209e-01 -1.31077653e-01 -2.82098879e-02\n",
      "   1.19258085e-01  4.31010158e-05]\n",
      " [ 9.84668839e-02  3.82310168e-01  1.83012378e-03 -3.60839848e-01\n",
      "  -9.49531329e-02 -1.02725701e-01  3.96148551e-01  2.35010207e-01\n",
      "   9.18911709e-03 -1.00219639e-04]\n",
      " [ 3.44498887e-02  8.37170186e-02  4.22083105e-04  3.17324621e-01\n",
      "   2.08546324e-01  3.30557533e-01  2.17199597e-01  5.70641444e-01\n",
      "  -1.74512789e-01 -1.23172422e-06]\n",
      " [ 6.04100397e-01 -1.22629514e-01 -6.20711489e-05  1.00699775e-01\n",
      "   2.79146092e-02  1.21228565e-02 -1.57598226e-02 -2.31364605e-01\n",
      "   1.39071782e-01 -2.94263361e-04]\n",
      " [ 6.16515647e-02  1.88809308e-01  6.17502601e-04 -9.61192243e-02\n",
      "  -7.48274701e-02 -7.42279758e-02  7.09248074e-01 -1.56718853e-01\n",
      "   2.67844859e-01  1.16517724e-04]\n",
      " [ 5.15801202e-05  4.25363150e-04  8.14207571e-01  5.13333068e-04\n",
      "  -9.26331255e-04  1.14764444e-02 -9.07078896e-03 -1.38686249e-03\n",
      "  -5.55364036e-05  3.03843845e-04]]\n",
      "(24, 10)\n"
     ]
    }
   ],
   "source": [
    "print(lsa_top)\n",
    "print(lsa_top.shape)  # (no_of_doc*no_of_topics)"
   ]
  },
  {
   "cell_type": "code",
   "execution_count": 20,
   "id": "d84cc2b6",
   "metadata": {},
   "outputs": [
    {
     "name": "stdout",
     "output_type": "stream",
     "text": [
      "Document 0 :\n",
      "Topic  0  :  6.116057373418446\n",
      "Topic  1  :  24.41004252697031\n",
      "Topic  2  :  0.02426344235968518\n",
      "Topic  3  :  -29.19464255088084\n",
      "Topic  4  :  -10.596681197354268\n",
      "Topic  5  :  34.72039320719818\n",
      "Topic  6  :  -23.540869002625094\n",
      "Topic  7  :  19.78055606267261\n",
      "Topic  8  :  30.819572658873707\n",
      "Topic  9  :  0.0035828926454230304\n"
     ]
    }
   ],
   "source": [
    "l=lsa_top[0]\n",
    "print(\"Document 0 :\")\n",
    "for i,topic in enumerate(l):\n",
    "  print(\"Topic \",i,\" : \",topic*100)"
   ]
  },
  {
   "cell_type": "code",
   "execution_count": 21,
   "id": "2c9d101f",
   "metadata": {},
   "outputs": [
    {
     "name": "stdout",
     "output_type": "stream",
     "text": [
      "(10, 260)\n",
      "[[ 1.11251518e-01  8.88116115e-03  1.15528592e-02 ...  2.11244770e-01\n",
      "   8.88116115e-03  1.06426565e-02]\n",
      " [-5.05469989e-02  3.75837339e-02  3.68358271e-02 ... -9.20850170e-02\n",
      "   3.75837339e-02  4.56465328e-02]\n",
      " [ 2.14139996e-04 -1.50221304e-04 -5.78582067e-04 ...  4.25212131e-06\n",
      "  -1.50221304e-04  1.05293815e-04]\n",
      " ...\n",
      " [ 4.83988825e-02  2.51548770e-02 -1.24364226e-01 ...  6.01298656e-02\n",
      "   2.51548770e-02  7.43386203e-03]\n",
      " [-2.74185653e-02 -4.19923860e-02 -7.12104750e-04 ... -3.44729425e-02\n",
      "  -4.19923860e-02 -4.46878005e-02]\n",
      " [-2.20330614e-04  1.95253370e-06 -2.73702698e-05 ...  5.51152996e-05\n",
      "   1.95253370e-06  1.75435274e-05]]\n"
     ]
    }
   ],
   "source": [
    "print(lsa_model.components_.shape) # (no_of_topics*no_of_words)\n",
    "print(lsa_model.components_)"
   ]
  },
  {
   "cell_type": "code",
   "execution_count": 24,
   "id": "06f5398e",
   "metadata": {},
   "outputs": [
    {
     "name": "stdout",
     "output_type": "stream",
     "text": [
      "Topic 0: \n",
      "polri bareskrim dilaporkan gilang juragan pramana widya dugaan penipuan terkait pemeriksaan penyidik dagang kejahatan meralat \n",
      "\n",
      "Topic 1: \n",
      "pemilu pemilihan komisi ketua selasa korupsi pemberantasan ilham jadwal melanjutkan penundaan saputra sesuai tahapan partai \n",
      "\n",
      "Topic 2: \n",
      "jenderal panglima perkasa andika dipelajari konflik perkembangan rusiaukraina dilantik februari komandan korps mabes marinir mayjen \n",
      "\n",
      "Topic 3: \n",
      "negeri korupsi pemberantasan komisi pemeriksaan penyidik mantan mengagendakan romahurmuziy hakim hidayat isnaeni itong nonaktif penahanan \n",
      "\n",
      "Topic 4: \n",
      "fadjar marsekal kepala menjelang college defence ksau kunjungan nostalgia prasetyo staf udara australian alumnus angkatan \n",
      "\n",
      "Topic 5: \n",
      "indonesia negeri negara fraksi dunia demokrasi nasional diduga ektp menyelidiki merugikan pengadaan percetakan perum pnri \n",
      "\n",
      "Topic 6: \n",
      "partai gerindra bersamaan capres dijagokan kader prabowo sandiaga subianto negeri ketua politik badan bawaslu calon \n",
      "\n",
      "Topic 7: \n",
      "negeri arab liga maret peristiwa sejarah tanggal berdirinya pemilu fraksi nasional dilaporkan gilang juragan pramana \n",
      "\n",
      "Topic 8: \n",
      "nasional ekonomi hukum intelektual kekayaan kemenkumham kementerian komitmen manusia mendorong mendukung pemerintah pemulihan peningkatan potensi \n",
      "\n",
      "Topic 9: \n",
      "alhikam barat depok digelar hasyim haul jawa masjid minggu muzadi pesantren puncak jokowi kabarnya kabinet \n",
      "\n"
     ]
    }
   ],
   "source": [
    "# most important words for each topic\n",
    "vocab = vect.get_feature_names()\n",
    "\n",
    "for i, comp in enumerate(lsa_model.components_):\n",
    "    vocab_comp = zip(vocab, comp)\n",
    "    sorted_words = sorted(vocab_comp, key= lambda x:x[1], reverse=True)[:15]\n",
    "    print(\"Topic \"+str(i)+\": \")\n",
    "    for t in sorted_words:\n",
    "        print(t[0],end=\" \")\n",
    "    print(\"\\n\")"
   ]
  }
 ],
 "metadata": {
  "kernelspec": {
   "display_name": "Python 3 (ipykernel)",
   "language": "python",
   "name": "python3"
  },
  "language_info": {
   "codemirror_mode": {
    "name": "ipython",
    "version": 3
   },
   "file_extension": ".py",
   "mimetype": "text/x-python",
   "name": "python",
   "nbconvert_exporter": "python",
   "pygments_lexer": "ipython3",
   "version": "3.10.3"
  }
 },
 "nbformat": 4,
 "nbformat_minor": 5
}
